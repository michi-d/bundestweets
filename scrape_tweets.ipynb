{
 "cells": [
  {
   "cell_type": "code",
   "execution_count": 1,
   "metadata": {},
   "outputs": [],
   "source": [
    "import pandas as pd\n",
    "import matplotlib.pyplot as plt\n",
    "import seaborn as sns\n",
    "import numpy as np\n",
    "\n",
    "import GetOldTweets3 as got\n",
    "import tweepy\n",
    "\n",
    "import datetime\n",
    "import json\n",
    "\n",
    "%matplotlib inline"
   ]
  },
  {
   "cell_type": "code",
   "execution_count": 2,
   "metadata": {},
   "outputs": [],
   "source": [
    "def get_tweets(username, since_date='2018-01-01', until_date='now'):\n",
    "    \n",
    "    '''Get all tweets from a user in a given time interval.\n",
    "    \n",
    "    Args:\n",
    "        username (str): Username\n",
    "        since_date (str): The start date of the interval\n",
    "        until_date (str): The end date\n",
    "    \n",
    "    Returns:\n",
    "        tweets: List of GetOldTweets3.models.Tweet.Tweet objects\n",
    "    '''\n",
    "\n",
    "    if until_date == 'now':\n",
    "        until_date = datetime.datetime.now().strftime('%Y-%m-%d')\n",
    "\n",
    "    # Creation of query object\n",
    "    tweetCriteria = got.manager.TweetCriteria().setUsername(username)\\\n",
    "        .setSince(since_date).setUntil(until_date).setTopTweets(False)\n",
    "\n",
    "    # Creation of list that contains all tweets\n",
    "    tweets = got.manager.TweetManager.getTweets(tweetCriteria)\n",
    "\n",
    "    return tweets"
   ]
  },
  {
   "cell_type": "code",
   "execution_count": 3,
   "metadata": {},
   "outputs": [],
   "source": [
    "tweets = get_tweets('strawlab')"
   ]
  },
  {
   "cell_type": "code",
   "execution_count": 5,
   "metadata": {},
   "outputs": [],
   "source": [
    "def tweet_to_dict(tweet):\n",
    "    \n",
    "    '''Transforms a GetOldTweets3-Tweet object to dictionary\n",
    "    \n",
    "    Args:\n",
    "        tweet: GetOldTweets3.models.Tweet.Tweet object\n",
    "        \n",
    "    Returns:\n",
    "        tweet_dict: Dictionary representation of the Tweet object\n",
    "    '''\n",
    "\n",
    "    tweet_dict = {\n",
    "        'id': tweet.id,\n",
    "        'permalink': tweet.permalink,\n",
    "        'username': tweet.username,\n",
    "        'to': tweet.to,\n",
    "        'text': tweet.text,\n",
    "        'date': tweet.date.strftime('%Y-%m-%d-%H-%M-%S'),\n",
    "        'retweets': tweet.retweets,\n",
    "        'favorites': tweet.favorites,\n",
    "        'mentions': tweet.mentions,\n",
    "        'hashtags': tweet.hashtags,\n",
    "        'geo': tweet.geo\n",
    "    }\n",
    "    \n",
    "    return tweet_dict"
   ]
  },
  {
   "cell_type": "code",
   "execution_count": 8,
   "metadata": {},
   "outputs": [],
   "source": [
    "tweets_dict = list(map(tweet_to_dict, tweets))"
   ]
  },
  {
   "cell_type": "code",
   "execution_count": null,
   "metadata": {},
   "outputs": [],
   "source": [
    "def get_API():\n",
    "    \n",
    "    '''Gets the Twitter API and authenticates with the App \"getMdBList\".\n",
    "    \n",
    "    Returns:\n",
    "        api: Twitter API\n",
    "    '''\n",
    "    \n",
    "    # read acess key from external file\n",
    "    with open(\"app_data\", \"r\") as f:\n",
    "        consumer_key = f.readline().splitlines()[0]\n",
    "        consumer_secret = f.readline().splitlines()[0]\n",
    "\n",
    "    auth = tweepy.AppAuthHandler(consumer_key, consumer_secret)\n",
    "\n",
    "    api = tweepy.API(auth)\n",
    "    \n",
    "    return api\n",
    "\n",
    "\n",
    "def retrieve_members_bundestag(api):\n",
    "    \n",
    "    '''Retrieves the members of the Twitter list \"MdB (Bundestag)\" by \"wahl_beobachter\"\n",
    "    https://twitter.com/i/lists/912241909002833921\n",
    "    \n",
    "    Returns:\n",
    "        members: List of members\n",
    "    '''\n",
    "    \n",
    "    return list(tweepy.Cursor(api.list_members, list_id=912241909002833921).items())\n",
    "\n",
    "\n",
    "# initialize Twitter API\n",
    "api = get_API()\n",
    "\n",
    "# get list of Bundestag members from https://twitter.com/i/lists/912241909002833921\n",
    "members_bundestag = retrieve_members_bundestag(api)\n",
    "\n",
    "# convert tweepy-User objects to dicts\n",
    "members_bundestag = list(map(lambda user: user._json, members_bundestag))"
   ]
  },
  {
   "cell_type": "code",
   "execution_count": null,
   "metadata": {},
   "outputs": [],
   "source": []
  },
  {
   "cell_type": "code",
   "execution_count": null,
   "metadata": {},
   "outputs": [],
   "source": []
  }
 ],
 "metadata": {
  "kernelspec": {
   "display_name": "dsr",
   "language": "python",
   "name": "dsr"
  },
  "language_info": {
   "codemirror_mode": {
    "name": "ipython",
    "version": 3
   },
   "file_extension": ".py",
   "mimetype": "text/x-python",
   "name": "python",
   "nbconvert_exporter": "python",
   "pygments_lexer": "ipython3",
   "version": "3.6.10"
  }
 },
 "nbformat": 4,
 "nbformat_minor": 4
}
